{
 "cells": [
  {
   "cell_type": "code",
   "execution_count": 1,
   "metadata": {},
   "outputs": [],
   "source": [
    "import numpy as np\n",
    "import cv2\n",
    "import matplotlib.pyplot as plt"
   ]
  },
  {
   "cell_type": "code",
   "execution_count": null,
   "metadata": {},
   "outputs": [],
   "source": [
    "def decompose(A,r):\n",
    "    U,S,Vt = np.linalg.svd(A,full_matrices=False)\n",
    "    S = np.diag(S)\n",
    "    A_approx = U[:,:r] @ S[:r,:r] @  Vt[:r,:]\n",
    "    return A_approx\n",
    "\n",
    "def __compressImage(image,r):\n",
    "    R,G,B = cv2.split(image)\n",
    "    R_new = decompose(R,r)\n",
    "    \n"
   ]
  }
 ],
 "metadata": {
  "kernelspec": {
   "display_name": "base",
   "language": "python",
   "name": "python3"
  },
  "language_info": {
   "codemirror_mode": {
    "name": "ipython",
    "version": 3
   },
   "file_extension": ".py",
   "mimetype": "text/x-python",
   "name": "python",
   "nbconvert_exporter": "python",
   "pygments_lexer": "ipython3",
   "version": "3.11.5"
  }
 },
 "nbformat": 4,
 "nbformat_minor": 2
}
